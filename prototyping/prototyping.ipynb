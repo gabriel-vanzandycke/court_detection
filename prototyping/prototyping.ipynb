{
 "cells": [
  {
   "cell_type": "code",
   "execution_count": null,
   "id": "0ff6d4c4",
   "metadata": {},
   "outputs": [],
   "source": [
    "%load_ext autoreload\n",
    "%autoreload 2\n",
    "\n",
    "import matplotlib.pyplot as plt\n",
    "import numpy as np\n",
    "from distinctipy import distinctipy\n",
    "\n",
    "from src.modules.court_detection import CourtDetector\n",
    "from src.utils.utils import draw_line, load_image, display_image"
   ]
  },
  {
   "cell_type": "code",
   "execution_count": null,
   "id": "b7eb35a4",
   "metadata": {},
   "outputs": [],
   "source": [
    "image = load_image(\"../assets/image.raw\", 1392, 550)\n",
    "display_image(image)"
   ]
  },
  {
   "cell_type": "code",
   "execution_count": null,
   "id": "a47c06a2",
   "metadata": {
    "scrolled": false
   },
   "outputs": [],
   "source": [
    "from calib3d import Point3D, ProjectiveDrawer\n",
    "\n",
    "# Construct court detector instance\n",
    "cd = CourtDetector(debug=False) # Set to debug=True to display debug info\n",
    "\n",
    "# Call court detector on the given image\n",
    "data = cd(image)\n",
    "\n",
    "# Extract the genereted calibration object\n",
    "calib = data['calib']\n",
    "\n",
    "# Prepare list of lines in 3D world representation\n",
    "labelled_lines = cd.court.lines\n",
    "\n",
    "# Use a Projective Drawer to draw lines once projected using the given calib\n",
    "pd = ProjectiveDrawer(calib, color=[200, 100, 20])\n",
    "\n",
    "fig = plt.figure(figsize=(10, 4))\n",
    "ax = fig.gca()\n",
    "ax.imshow(image)\n",
    "# Draw each line on the input image with a different distinctive color\n",
    "for color, (label, line) in zip(distinctipy.get_colors(len(labelled_lines)), labelled_lines.items()):\n",
    "    color = list(map(lambda x: x*255, color))\n",
    "    p1 = Point3D(line[0])\n",
    "    p2 = Point3D(line[1])\n",
    "    pd.draw_line(ax, p1, p2, thickness=2, color=color, label=label)\n",
    "\n",
    "ax.axis('off')\n",
    "fig.legend(loc=7, bbox_to_anchor=(1.1, 0, 0, 1))"
   ]
  },
  {
   "cell_type": "code",
   "execution_count": null,
   "id": "ba469a33",
   "metadata": {},
   "outputs": [],
   "source": []
  },
  {
   "cell_type": "code",
   "execution_count": null,
   "id": "978e7646",
   "metadata": {},
   "outputs": [],
   "source": []
  }
 ],
 "metadata": {
  "kernelspec": {
   "display_name": "Python 3 (ipykernel)",
   "language": "python",
   "name": "python3"
  },
  "language_info": {
   "codemirror_mode": {
    "name": "ipython",
    "version": 3
   },
   "file_extension": ".py",
   "mimetype": "text/x-python",
   "name": "python",
   "nbconvert_exporter": "python",
   "pygments_lexer": "ipython3",
   "version": "3.10.8"
  }
 },
 "nbformat": 4,
 "nbformat_minor": 5
}
